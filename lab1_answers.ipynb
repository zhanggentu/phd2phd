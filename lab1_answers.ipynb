{
 "cells": [
  {
   "cell_type": "markdown",
   "metadata": {},
   "source": [
    "# Read the data\n",
    "https://lobsterdata.com/info/DataSamples.php\n",
    "\n",
    "variable explanation.\n",
    "\n",
    "Time: Seconds after midnight with decimal precision of at least milliseconds and up to nanoseconds depending on the period requested\n",
    "Event Type:\n",
    "1: Submission of a new limit order\n",
    "2: Cancellation (partial deletion of a limit order)\n",
    "3: Deletion (total deletion of a limit order)\n",
    "4: Execution of a visible limit order\n",
    "5: Execution of a hidden limit order\n",
    "6: Indicates a cross trade, e.g. auction trade\n",
    "7: Trading halt indicator (detailed information below)\n",
    "Order ID: Unique order reference number\n",
    "Size: Number of shares\n",
    "Price: Dollar price times 10000 (i.e. a stock price of $91.14 is given by 911400)\n",
    "Direction:\n",
    "-1: Sell limit order\n",
    "1: Buy limit order\n",
    "Note: Execution of a sell (buy) limit order corresponds to a buyer (seller) initiated trade, i.e. buy (sell) trade."
   ]
  },
  {
   "cell_type": "code",
   "execution_count": 3,
   "metadata": {},
   "outputs": [],
   "source": [
    "import pandas as pd\n",
    "import numpy as np\n",
    "import matplotlib.pyplot as plt\n",
    "import datetime"
   ]
  },
  {
   "cell_type": "code",
   "execution_count": 33,
   "metadata": {},
   "outputs": [],
   "source": [
    "# make modification of the URL here\n",
    "tick_file = \"tick.csv\"\n",
    "trade_file = \"trade.csv\"\n",
    "trade1s_file = \"1min.csv\""
   ]
  },
  {
   "cell_type": "raw",
   "metadata": {},
   "source": [
    "Task 1: Loading the data"
   ]
  },
  {
   "cell_type": "code",
   "execution_count": 35,
   "metadata": {},
   "outputs": [],
   "source": [
    "##################################################\n",
    "## your code here\n",
    "##################################################\n",
    "tick = pd.read_csv(tick_file, index_col=0)\n",
    "trade = pd.read_csv(trade_file, index_col=0)\n",
    "trade1min = pd.read_csv(trade1s_file, index_col=0)\n",
    "##################################################"
   ]
  },
  {
   "cell_type": "raw",
   "metadata": {},
   "source": [
    "Task 2: What is the percentage of limit orders which are deleted (cancelled)"
   ]
  },
  {
   "cell_type": "code",
   "execution_count": 13,
   "metadata": {},
   "outputs": [
    {
     "data": {
      "text/plain": [
       "0.9646359583952452"
      ]
     },
     "execution_count": 13,
     "metadata": {},
     "output_type": "execute_result"
    }
   ],
   "source": [
    "total = tick[tick['type']==1].shape[0]\n",
    "##################################################\n",
    "## your code here\n",
    "number_cancellation = tick[tick['type']==3].shape[0]\n",
    "##################################################\n",
    "number_cancellation/total"
   ]
  },
  {
   "cell_type": "raw",
   "metadata": {},
   "source": [
    "Trask 3: Plot the histogram of the interarrival time for trades\n",
    "Hint: use trade.csv file"
   ]
  },
  {
   "cell_type": "code",
   "execution_count": 24,
   "metadata": {},
   "outputs": [
    {
     "data": {
      "image/png": "[encoded data removed]",
      "text/plain": [
       "<matplotlib.figure.Figure at 0x7fa704469c50>"
      ]
     },
     "metadata": {
      "needs_background": "light"
     },
     "output_type": "display_data"
    }
   ],
   "source": [
    "trade.head()\n",
    "trade['iat'] = trade[\"time\"].shift(-1) - trade[\"time\"]\n",
    "trade.dropna(inplace=True)\n",
    "############################\n",
    "# you code here\n",
    "plt.hist(trade['iat'] , 50, normed=True, range=[0, 100])\n",
    "plt.show()\n",
    "############################"
   ]
  },
  {
   "cell_type": "raw",
   "metadata": {},
   "source": [
    "Trask 4: What is volatility of the return per minutes\n",
    "hint: create a column named \"return\""
   ]
  },
  {
   "cell_type": "code",
   "execution_count": 39,
   "metadata": {},
   "outputs": [
    {
     "data": {
      "text/plain": [
       "1.2547923479587788"
      ]
     },
     "execution_count": 39,
     "metadata": {},
     "output_type": "execute_result"
    }
   ],
   "source": [
    "####################################################################################\n",
    "# you code here\n",
    "trade1min[\"return\"] = trade1min['price'].shift(-1) - trade1min['price']\n",
    "trade1min.dropna()\n",
    "####################################################################################\n",
    "trade1min[\"return\"].std()/10000"
   ]
  },
  {
   "cell_type": "markdown",
   "metadata": {},
   "source": [
    "# sample by 1 sec"
   ]
  },
  {
   "cell_type": "code",
   "execution_count": null,
   "metadata": {},
   "outputs": [],
   "source": []
  },
  {
   "cell_type": "code",
   "execution_count": null,
   "metadata": {},
   "outputs": [],
   "source": [
    " "
   ]
  }
 ],
 "metadata": {
  "kernelspec": {
   "display_name": "Python 3",
   "language": "python",
   "name": "python3"
  },
  "language_info": {
   "codemirror_mode": {
    "name": "ipython",
    "version": 3
   },
   "file_extension": ".py",
   "mimetype": "text/x-python",
   "name": "python",
   "nbconvert_exporter": "python",
   "pygments_lexer": "ipython3",
   "version": "3.5.2"
  }
 },
 "nbformat": 4,
 "nbformat_minor": 2
}
