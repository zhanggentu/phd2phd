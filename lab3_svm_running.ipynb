{
 "cells": [
  {
   "cell_type": "code",
   "execution_count": 1,
   "metadata": {},
   "outputs": [],
   "source": [
    "import pandas as pd\n",
    "import numpy as np\n",
    "import matplotlib.pyplot as plt\n",
    "import datetime\n",
    "\n",
    "orderbook = \"../datasets/PTP/GOOGL_2018-07-02_34200000_57600000_orderbook_10.csv\"\n",
    "message = \"../datasets/PTP/GOOGL_2018-07-02_34200000_57600000_message_10.csv\"\n",
    "num_levels = 10\n",
    "\n",
    "header_list = []\n",
    "for i in range(num_levels):\n",
    "    header_list = header_list + [\"Pa%d\"%(i+1),\"Va%d\"%(i+1),\"Pb%d\"%(i+1),\"Vb%d\"%(i+1)]\n",
    "df_orderbook = pd.read_csv(orderbook,header=None,names=header_list)\n",
    "\n",
    "df_message = pd.read_csv(message,usecols = [0,1,3,4,5], names=['time', 'type','size','price','direction'])\n",
    "df_message.index = pd.Timestamp(datetime.date.today()) + pd.TimedeltaIndex(df_message.time, unit='s')\n",
    "df_orderbook.index = df_message.index\n",
    "\n",
    "def labelling(a):\n",
    "    if a > 10000:\n",
    "        b = 1\n",
    "    elif a > -10000:\n",
    "        b = 0\n",
    "    else:\n",
    "        b= -1\n",
    "    return b\n",
    "\n",
    "# Spreads and mid-prices\n",
    "def feature_v2(num_levels,df):\n",
    "    for i in range(1,num_levels+1):\n",
    "        df[\"spread%d\"%(i)] = df[\"Pa%d\"%(i)] - df[\"Pb%d\"%(i)]\n",
    "        df[\"midprice%d\"%(i)] = (df[\"Pa%d\"%(i)] + df[\"Pb%d\"%(i)])/2\n",
    "    return df\n",
    "\n",
    "def feature_v3(num_levels,df):\n",
    "    for i in range(1, num_levels):\n",
    "        df[\"PA_diff%d\"%(i)] = df[\"Pa%d\"%(i+1)] - df[\"Pa%d\"%(i)]\n",
    "        df[\"PB_diff%d\"%(i)] = df[\"Pb%d\"%(i)] - df[\"Pb%d\"%(i+1)]\n",
    "    return df\n",
    "\n",
    "def feature_v4(num_levels,df):\n",
    "    lst = [\"Pa%d\"%(i+1) for i in range(num_levels)]\n",
    "    df[\"Pa_mean\"] = df[df.columns.intersection(lst)].sum(axis=1)    \n",
    "    \n",
    "    lst = [\"Pb%d\"%(i+1) for i in range(num_levels)]\n",
    "    df[\"Pb_mean\"] = df[df.columns.intersection(lst)].sum(axis=1)\n",
    "    \n",
    "    lst = [\"Va%d\"%(i+1) for i in range(num_levels)]\n",
    "    df[\"Va_mean\"] = df[df.columns.intersection(lst)].sum(axis=1)\n",
    "    \n",
    "    lst = [\"Vb%d\"%(i+1) for i in range(num_levels)]\n",
    "    df[\"Vb_mean\"] = df[df.columns.intersection(lst)].sum(axis=1)\n",
    "    return df\n",
    "\n",
    "def feature_v5(num_levels,df): # accum differences\n",
    "    for i in range(num_levels):\n",
    "        df[\"pri_accum_diff%d\"%(i+1)] = 0\n",
    "        df[\"vol_accum_diff%d\"%(i+1)] = 0\n",
    "        for k in range(i):\n",
    "            df[\"pri_accum_diff%d\"%(i+1)] += (df[\"Pa%d\"%(k+1)] - df[\"Pb%d\"%(k+1)])\n",
    "            df[\"vol_accum_diff%d\"%(i+1)] += (df[\"Va%d\"%(i+1)] - df[\"Vb%d\"%(i+1)])\n",
    "    return df\n",
    "\n",
    "df_orderbook = feature_v2(num_levels,df_orderbook)\n",
    "df_orderbook = feature_v3(num_levels,df_orderbook)\n",
    "df_orderbook = feature_v4(num_levels,df_orderbook)\n",
    "df_orderbook = feature_v5(num_levels,df_orderbook)"
   ]
  },
  {
   "cell_type": "code",
   "execution_count": null,
   "metadata": {},
   "outputs": [],
   "source": [
    "df_orderbook.head()"
   ]
  },
  {
   "cell_type": "code",
   "execution_count": null,
   "metadata": {},
   "outputs": [],
   "source": [
    "# window = 1000\n",
    "# df_orderbook['midprice_win%d'%window] = df_orderbook.rolling(window).agg({'midprice1':'mean'})\n",
    "# df_orderbook['midprice_win%d'%window].plot()"
   ]
  },
  {
   "cell_type": "code",
   "execution_count": null,
   "metadata": {},
   "outputs": [],
   "source": [
    "# window = '1MIN'\n",
    "# df_orderbook['midprice_average'+window] = df_orderbook.rolling('1MIN').agg({'midprice1':'mean'})\n",
    "# df_orderbook['midprice_average'+window].plot()\n",
    "# plt.show()"
   ]
  },
  {
   "cell_type": "code",
   "execution_count": 2,
   "metadata": {},
   "outputs": [],
   "source": [
    "df_orderbook1s = df_orderbook.resample('1S').first()\n",
    "df_orderbook1s[\"price_10min\"] = df_orderbook1s['midprice1'].shift(-600)\n",
    "df_orderbook1s.dropna(inplace=True)\n",
    "df_orderbook1s[\"price_change\"] = df_orderbook1s[\"price_10min\"] - df_orderbook1s['midprice1']"
   ]
  },
  {
   "cell_type": "code",
   "execution_count": 4,
   "metadata": {
    "scrolled": true
   },
   "outputs": [
    {
     "name": "stderr",
     "output_type": "stream",
     "text": [
      "/usr/local/lib/python3.5/dist-packages/sklearn/cross_validation.py:41: DeprecationWarning: This module was deprecated in version 0.18 in favor of the model_selection module into which all the refactored classes and functions are moved. Also note that the interface of the new CV iterators are different from that of this module. This module will be removed in 0.20.\n",
      "  \"This module will be removed in 0.20.\", DeprecationWarning)\n"
     ]
    }
   ],
   "source": [
    "from sklearn.cross_validation import train_test_split\n",
    "X = df_orderbook1s.drop(['price_10min','price_change'], axis=1).values\n",
    "y = list(map(labelling, df_orderbook1s[\"price_change\"]))\n",
    "X_train, X_test, y_train, y_test = train_test_split(X, y, test_size=0.2, random_state=42)"
   ]
  },
  {
   "cell_type": "code",
   "execution_count": null,
   "metadata": {},
   "outputs": [],
   "source": [
    "########################\n",
    "# Support Vector machine\n",
    "########################\n",
    "###  https://towardsdatascience.com/preprocessing-with-sklearn-a-complete-and-comprehensive-guide-670cb98fcfb9\n",
    "from sklearn import svm\n",
    "import time\n",
    "\n",
    "########## Training ##########\n",
    "clf = svm.SVC(kernel='linear') # Linear Kernel\n",
    "time1 = time.time()\n",
    "clf.fit(X_train, y_train)\n",
    "print(time.time() - time1)\n",
    "\n",
    "########## Testing ##########\n",
    "y_pred = clf.predict(X_test)\n",
    "\n",
    "from sklearn import metrics\n",
    "# Model Accuracy: how often is the classifier correct?\n",
    "print(\"Accuracy:\",metrics.accuracy_score(y_test, y_pred))\n",
    "# Model Precision: what percentage of positive tuples are labeled as such?\n",
    "print(\"Precision:\",metrics.precision_score(y_test, y_pred))\n",
    "# Model Recall: what percentage of positive tuples are labelled as such?\n",
    "print(\"Recall:\",metrics.recall_score(y_test, y_pred))"
   ]
  },
  {
   "cell_type": "code",
   "execution_count": null,
   "metadata": {},
   "outputs": [],
   "source": [
    "####################\n",
    "#### xgboost ####\n",
    "####################\n",
    "\n",
    "import xgboost as xgb\n",
    "from sklearn.metrics import precision_score\n",
    "dtrain = xgb.DMatrix(X_train, label=y_train)\n",
    "dtest = xgb.DMatrix(X_test, label=y_test)\n",
    "param = {\n",
    "    'max_depth': 3,  # the maximum depth of each tree\n",
    "    'eta': 0.3,  # the training step for each iteration\n",
    "    'silent': 1,  # logging mode - quiet\n",
    "    'objective': 'multi:softprob',  # error evaluation for multiclass training\n",
    "    'num_class': 3 # the number of classes that exist in this datset\n",
    "}  \n",
    "num_round = 20  # the number of training iterations\n",
    "model = xgb.train(param, dtrain, num_round)\n",
    "preds = model.predict(dtest)\n",
    "best_preds = np.asarray([np.argmax(line) for line in preds])-1\n",
    "print(\"results:\",precision_score(y_test, best_preds))"
   ]
  },
  {
   "cell_type": "code",
   "execution_count": null,
   "metadata": {
    "scrolled": true
   },
   "outputs": [],
   "source": []
  },
  {
   "cell_type": "code",
   "execution_count": null,
   "metadata": {},
   "outputs": [],
   "source": [
    "# Linear regression"
   ]
  }
 ],
 "metadata": {
  "kernelspec": {
   "display_name": "Python 3",
   "language": "python",
   "name": "python3"
  },
  "language_info": {
   "codemirror_mode": {
    "name": "ipython",
    "version": 3
   },
   "file_extension": ".py",
   "mimetype": "text/x-python",
   "name": "python",
   "nbconvert_exporter": "python",
   "pygments_lexer": "ipython3",
   "version": "3.5.2"
  }
 },
 "nbformat": 4,
 "nbformat_minor": 2
}
