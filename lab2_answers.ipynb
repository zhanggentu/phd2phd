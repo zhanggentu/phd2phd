{
 "cells": [
  {
   "cell_type": "code",
   "execution_count": null,
   "metadata": {},
   "outputs": [],
   "source": [
    "import pandas as pd\n",
    "import numpy as np\n",
    "import matplotlib.pyplot as plt\n",
    "import datetime\n",
    "\n",
    "orderbook = \"../datasets/PTP/GOOGL_2018-07-02_34200000_57600000_orderbook_10.csv\"\n",
    "message = \"../datasets/PTP/GOOGL_2018-07-02_34200000_57600000_message_10.csv\"\n",
    "num_levels = 10\n",
    "\n",
    "header_list = []\n",
    "for i in range(num_levels):\n",
    "    header_list = header_list + [\"Pa%d\"%(i+1),\"Va%d\"%(i+1),\"Pb%d\"%(i+1),\"Vb%d\"%(i+1)]\n",
    "df_orderbook = pd.read_csv(orderbook,header=None,names=header_list)\n",
    "\n",
    "df_message = pd.read_csv(message,usecols = [0,1,3,4,5], names=['time', 'type','size','price','direction'])\n",
    "df_message.index = pd.Timestamp(datetime.date.today()) + pd.TimedeltaIndex(df_message.time, unit='s')\n",
    "df_orderbook.index = df_message.index\n",
    "\n",
    "# Spreads and mid-prices\n",
    "def feature_v2(num_levels,df):\n",
    "    for i in range(1,num_levels+1):\n",
    "        df[\"spread%d\"%(i)] = df[\"Pa%d\"%(i)] - df[\"Pb%d\"%(i)]\n",
    "        df[\"midprice%d\"%(i)] = (df[\"Pa%d\"%(i)] + df[\"Pb%d\"%(i)])/2\n",
    "    return df\n",
    "\n",
    "def feature_v3(num_levels,df):\n",
    "    for i in range(1, num_levels):\n",
    "        df[\"PA_diff%d\"%(i)] = df[\"Pa%d\"%(i+1)] - df[\"Pa%d\"%(i)]\n",
    "        df[\"PB_diff%d\"%(i)] = df[\"Pb%d\"%(i)] - df[\"Pb%d\"%(i+1)]\n",
    "    return df\n",
    "\n",
    "def feature_v4(num_levels,df):\n",
    "    lst = [\"Pa%d\"%(i+1) for i in range(num_levels)]\n",
    "    df[\"Pa_mean\"] = df[df.columns.intersection(lst)].sum(axis=1)    \n",
    "    \n",
    "    lst = [\"Pb%d\"%(i+1) for i in range(num_levels)]\n",
    "    df[\"Pb_mean\"] = df[df.columns.intersection(lst)].sum(axis=1)\n",
    "    \n",
    "    lst = [\"Va%d\"%(i+1) for i in range(num_levels)]\n",
    "    df[\"Va_mean\"] = df[df.columns.intersection(lst)].sum(axis=1)\n",
    "    \n",
    "    lst = [\"Vb%d\"%(i+1) for i in range(num_levels)]\n",
    "    df[\"Vb_mean\"] = df[df.columns.intersection(lst)].sum(axis=1)\n",
    "    return df\n",
    "\n",
    "def feature_v5(num_levels,df): # accum differences\n",
    "    for i in range(num_levels):\n",
    "        df[\"pri_accum_diff%d\"%(i+1)] = 0\n",
    "        df[\"vol_accum_diff%d\"%(i+1)] = 0\n",
    "        for k in range(i):\n",
    "            df[\"pri_accum_diff%d\"%(i+1)] += (df[\"Pa%d\"%(k+1)] - df[\"Pb%d\"%(k+1)])\n",
    "            df[\"vol_accum_diff%d\"%(i+1)] += (df[\"Va%d\"%(i+1)] - df[\"Vb%d\"%(i+1)])\n",
    "    return df"
   ]
  },
  {
   "cell_type": "code",
   "execution_count": 79,
   "metadata": {},
   "outputs": [],
   "source": [
    "df_orderbook = feature_v2(num_levels,df_orderbook)\n",
    "df_orderbook = feature_v3(num_levels,df_orderbook)\n",
    "df_orderbook = feature_v4(num_levels,df_orderbook)\n",
    "df_orderbook = feature_v5(num_levels,df_orderbook)"
   ]
  },
  {
   "cell_type": "code",
   "execution_count": 80,
   "metadata": {},
   "outputs": [
    {
     "data": {
      "text/html": [
       "<div>\n",
       "<style scoped>\n",
       "    .dataframe tbody tr th:only-of-type {\n",
       "        vertical-align: middle;\n",
       "    }\n",
       "\n",
       "    .dataframe tbody tr th {\n",
       "        vertical-align: top;\n",
       "    }\n",
       "\n",
       "    .dataframe thead th {\n",
       "        text-align: right;\n",
       "    }\n",
       "</style>\n",
       "<table border=\"1\" class=\"dataframe\">\n",
       "  <thead>\n",
       "    <tr style=\"text-align: right;\">\n",
       "      <th></th>\n",
       "      <th>Pa1</th>\n",
       "      <th>Va1</th>\n",
       "      <th>Pb1</th>\n",
       "      <th>Vb1</th>\n",
       "      <th>Pa2</th>\n",
       "      <th>Va2</th>\n",
       "      <th>Pb2</th>\n",
       "      <th>Vb2</th>\n",
       "      <th>Pa3</th>\n",
       "      <th>Va3</th>\n",
       "      <th>...</th>\n",
       "      <th>pri_accum_diff6</th>\n",
       "      <th>vol_accum_diff6</th>\n",
       "      <th>pri_accum_diff7</th>\n",
       "      <th>vol_accum_diff7</th>\n",
       "      <th>pri_accum_diff8</th>\n",
       "      <th>vol_accum_diff8</th>\n",
       "      <th>pri_accum_diff9</th>\n",
       "      <th>vol_accum_diff9</th>\n",
       "      <th>pri_accum_diff10</th>\n",
       "      <th>vol_accum_diff10</th>\n",
       "    </tr>\n",
       "  </thead>\n",
       "  <tbody>\n",
       "    <tr>\n",
       "      <th>2019-12-09 09:30:00.001513</th>\n",
       "      <td>11177800</td>\n",
       "      <td>44</td>\n",
       "      <td>11165500</td>\n",
       "      <td>128</td>\n",
       "      <td>11227100</td>\n",
       "      <td>100</td>\n",
       "      <td>11144200</td>\n",
       "      <td>66</td>\n",
       "      <td>11280000</td>\n",
       "      <td>2</td>\n",
       "      <td>...</td>\n",
       "      <td>750200</td>\n",
       "      <td>495</td>\n",
       "      <td>1142100</td>\n",
       "      <td>0</td>\n",
       "      <td>1793100</td>\n",
       "      <td>0</td>\n",
       "      <td>2575000</td>\n",
       "      <td>1600</td>\n",
       "      <td>3438800</td>\n",
       "      <td>0</td>\n",
       "    </tr>\n",
       "    <tr>\n",
       "      <th>2019-12-09 09:30:00.006005</th>\n",
       "      <td>11177800</td>\n",
       "      <td>44</td>\n",
       "      <td>11165500</td>\n",
       "      <td>127</td>\n",
       "      <td>11227100</td>\n",
       "      <td>100</td>\n",
       "      <td>11144200</td>\n",
       "      <td>66</td>\n",
       "      <td>11280000</td>\n",
       "      <td>2</td>\n",
       "      <td>...</td>\n",
       "      <td>750200</td>\n",
       "      <td>495</td>\n",
       "      <td>1142100</td>\n",
       "      <td>0</td>\n",
       "      <td>1793100</td>\n",
       "      <td>0</td>\n",
       "      <td>2575000</td>\n",
       "      <td>1600</td>\n",
       "      <td>3438800</td>\n",
       "      <td>0</td>\n",
       "    </tr>\n",
       "    <tr>\n",
       "      <th>2019-12-09 09:30:00.007099</th>\n",
       "      <td>11177800</td>\n",
       "      <td>44</td>\n",
       "      <td>11165500</td>\n",
       "      <td>127</td>\n",
       "      <td>11227100</td>\n",
       "      <td>100</td>\n",
       "      <td>11158600</td>\n",
       "      <td>5</td>\n",
       "      <td>11280000</td>\n",
       "      <td>2</td>\n",
       "      <td>...</td>\n",
       "      <td>693200</td>\n",
       "      <td>205</td>\n",
       "      <td>1073500</td>\n",
       "      <td>594</td>\n",
       "      <td>1512300</td>\n",
       "      <td>0</td>\n",
       "      <td>2226300</td>\n",
       "      <td>1600</td>\n",
       "      <td>3021400</td>\n",
       "      <td>0</td>\n",
       "    </tr>\n",
       "    <tr>\n",
       "      <th>2019-12-09 09:30:00.008490</th>\n",
       "      <td>11177800</td>\n",
       "      <td>44</td>\n",
       "      <td>11165500</td>\n",
       "      <td>127</td>\n",
       "      <td>11227100</td>\n",
       "      <td>100</td>\n",
       "      <td>11158600</td>\n",
       "      <td>5</td>\n",
       "      <td>11280000</td>\n",
       "      <td>2</td>\n",
       "      <td>...</td>\n",
       "      <td>693200</td>\n",
       "      <td>205</td>\n",
       "      <td>1073500</td>\n",
       "      <td>594</td>\n",
       "      <td>1512300</td>\n",
       "      <td>0</td>\n",
       "      <td>2161900</td>\n",
       "      <td>1600</td>\n",
       "      <td>2889100</td>\n",
       "      <td>0</td>\n",
       "    </tr>\n",
       "    <tr>\n",
       "      <th>2019-12-09 09:30:00.009083</th>\n",
       "      <td>11177800</td>\n",
       "      <td>44</td>\n",
       "      <td>11165500</td>\n",
       "      <td>127</td>\n",
       "      <td>11227100</td>\n",
       "      <td>100</td>\n",
       "      <td>11158600</td>\n",
       "      <td>5</td>\n",
       "      <td>11280000</td>\n",
       "      <td>2</td>\n",
       "      <td>...</td>\n",
       "      <td>685400</td>\n",
       "      <td>-270</td>\n",
       "      <td>993800</td>\n",
       "      <td>594</td>\n",
       "      <td>1385700</td>\n",
       "      <td>0</td>\n",
       "      <td>1972300</td>\n",
       "      <td>0</td>\n",
       "      <td>2686300</td>\n",
       "      <td>1800</td>\n",
       "    </tr>\n",
       "  </tbody>\n",
       "</table>\n",
       "<p>5 rows × 102 columns</p>\n",
       "</div>"
      ],
      "text/plain": [
       "                                 Pa1  Va1       Pb1  Vb1       Pa2  Va2  \\\n",
       "2019-12-09 09:30:00.001513  11177800   44  11165500  128  11227100  100   \n",
       "2019-12-09 09:30:00.006005  11177800   44  11165500  127  11227100  100   \n",
       "2019-12-09 09:30:00.007099  11177800   44  11165500  127  11227100  100   \n",
       "2019-12-09 09:30:00.008490  11177800   44  11165500  127  11227100  100   \n",
       "2019-12-09 09:30:00.009083  11177800   44  11165500  127  11227100  100   \n",
       "\n",
       "                                 Pb2  Vb2       Pa3  Va3        ...         \\\n",
       "2019-12-09 09:30:00.001513  11144200   66  11280000    2        ...          \n",
       "2019-12-09 09:30:00.006005  11144200   66  11280000    2        ...          \n",
       "2019-12-09 09:30:00.007099  11158600    5  11280000    2        ...          \n",
       "2019-12-09 09:30:00.008490  11158600    5  11280000    2        ...          \n",
       "2019-12-09 09:30:00.009083  11158600    5  11280000    2        ...          \n",
       "\n",
       "                            pri_accum_diff6  vol_accum_diff6  pri_accum_diff7  \\\n",
       "2019-12-09 09:30:00.001513           750200              495          1142100   \n",
       "2019-12-09 09:30:00.006005           750200              495          1142100   \n",
       "2019-12-09 09:30:00.007099           693200              205          1073500   \n",
       "2019-12-09 09:30:00.008490           693200              205          1073500   \n",
       "2019-12-09 09:30:00.009083           685400             -270           993800   \n",
       "\n",
       "                            vol_accum_diff7  pri_accum_diff8  vol_accum_diff8  \\\n",
       "2019-12-09 09:30:00.001513                0          1793100                0   \n",
       "2019-12-09 09:30:00.006005                0          1793100                0   \n",
       "2019-12-09 09:30:00.007099              594          1512300                0   \n",
       "2019-12-09 09:30:00.008490              594          1512300                0   \n",
       "2019-12-09 09:30:00.009083              594          1385700                0   \n",
       "\n",
       "                            pri_accum_diff9  vol_accum_diff9  \\\n",
       "2019-12-09 09:30:00.001513          2575000             1600   \n",
       "2019-12-09 09:30:00.006005          2575000             1600   \n",
       "2019-12-09 09:30:00.007099          2226300             1600   \n",
       "2019-12-09 09:30:00.008490          2161900             1600   \n",
       "2019-12-09 09:30:00.009083          1972300                0   \n",
       "\n",
       "                            pri_accum_diff10  vol_accum_diff10  \n",
       "2019-12-09 09:30:00.001513           3438800                 0  \n",
       "2019-12-09 09:30:00.006005           3438800                 0  \n",
       "2019-12-09 09:30:00.007099           3021400                 0  \n",
       "2019-12-09 09:30:00.008490           2889100                 0  \n",
       "2019-12-09 09:30:00.009083           2686300              1800  \n",
       "\n",
       "[5 rows x 102 columns]"
      ]
     },
     "execution_count": 80,
     "metadata": {},
     "output_type": "execute_result"
    }
   ],
   "source": [
    "df_orderbook.head()"
   ]
  },
  {
   "cell_type": "code",
   "execution_count": 93,
   "metadata": {},
   "outputs": [
    {
     "data": {
      "text/plain": [
       "<matplotlib.axes._subplots.AxesSubplot at 0x7fc28a860a58>"
      ]
     },
     "execution_count": 93,
     "metadata": {},
     "output_type": "execute_result"
    },
    {
     "data": {
      "image/png": "[encoded data removed]",
      "text/plain": [
       "<matplotlib.figure.Figure at 0x7fc2870c1ba8>"
      ]
     },
     "metadata": {
      "needs_background": "light"
     },
     "output_type": "display_data"
    }
   ],
   "source": [
    "window = 1000\n",
    "df_orderbook['midprice_win%d'%window] = df_orderbook.rolling(window).agg({'midprice1':'mean'})\n",
    "df_orderbook['midprice_win%d'%window].plot()"
   ]
  },
  {
   "cell_type": "code",
   "execution_count": 103,
   "metadata": {},
   "outputs": [
    {
     "data": {
      "text/plain": [
       "<matplotlib.axes._subplots.AxesSubplot at 0x7fc2863720f0>"
      ]
     },
     "execution_count": 103,
     "metadata": {},
     "output_type": "execute_result"
    },
    {
     "data": {
      "image/png": "[encoded data removed]",
      "text/plain": [
       "<matplotlib.figure.Figure at 0x7fc288c1ce80>"
      ]
     },
     "metadata": {
      "needs_background": "light"
     },
     "output_type": "display_data"
    }
   ],
   "source": [
    "window = '1MIN'\n",
    "df_orderbook['midprice_average'+window] = df_orderbook.rolling('1MIN').agg({'midprice1':'mean'})\n",
    "df_orderbook['midprice_average'+window].plot()"
   ]
  },
  {
   "cell_type": "code",
   "execution_count": 105,
   "metadata": {},
   "outputs": [],
   "source": [
    "df_orderbook1s = df_orderbook.resample('1S').first()"
   ]
  },
  {
   "cell_type": "code",
   "execution_count": 109,
   "metadata": {},
   "outputs": [],
   "source": [
    "df_orderbook1s[\"label\"] = df_orderbook1s['midprice1'].shift(-600)"
   ]
  },
  {
   "cell_type": "code",
   "execution_count": 108,
   "metadata": {
    "scrolled": true
   },
   "outputs": [
    {
     "data": {
      "text/html": [
       "<div>\n",
       "<style scoped>\n",
       "    .dataframe tbody tr th:only-of-type {\n",
       "        vertical-align: middle;\n",
       "    }\n",
       "\n",
       "    .dataframe tbody tr th {\n",
       "        vertical-align: top;\n",
       "    }\n",
       "\n",
       "    .dataframe thead th {\n",
       "        text-align: right;\n",
       "    }\n",
       "</style>\n",
       "<table border=\"1\" class=\"dataframe\">\n",
       "  <thead>\n",
       "    <tr style=\"text-align: right;\">\n",
       "      <th></th>\n",
       "      <th>Pa1</th>\n",
       "      <th>Va1</th>\n",
       "      <th>Pb1</th>\n",
       "      <th>Vb1</th>\n",
       "      <th>Pa2</th>\n",
       "      <th>Va2</th>\n",
       "      <th>Pb2</th>\n",
       "      <th>Vb2</th>\n",
       "      <th>Pa3</th>\n",
       "      <th>Va3</th>\n",
       "      <th>...</th>\n",
       "      <th>vol_accum_diff8</th>\n",
       "      <th>pri_accum_diff9</th>\n",
       "      <th>vol_accum_diff9</th>\n",
       "      <th>pri_accum_diff10</th>\n",
       "      <th>vol_accum_diff10</th>\n",
       "      <th>midprice_win100</th>\n",
       "      <th>midprice_win1000</th>\n",
       "      <th>midprice_1MIN</th>\n",
       "      <th>midprice_average1MIN</th>\n",
       "      <th>label</th>\n",
       "    </tr>\n",
       "  </thead>\n",
       "  <tbody>\n",
       "    <tr>\n",
       "      <th>2019-12-09 09:30:00</th>\n",
       "      <td>11177800.0</td>\n",
       "      <td>44.0</td>\n",
       "      <td>11165500.0</td>\n",
       "      <td>128.0</td>\n",
       "      <td>11227100.0</td>\n",
       "      <td>100.0</td>\n",
       "      <td>11144200.0</td>\n",
       "      <td>66.0</td>\n",
       "      <td>11280000.0</td>\n",
       "      <td>2.0</td>\n",
       "      <td>...</td>\n",
       "      <td>0.0</td>\n",
       "      <td>2575000.0</td>\n",
       "      <td>1600.0</td>\n",
       "      <td>3438800.0</td>\n",
       "      <td>0.0</td>\n",
       "      <td>11165574.0</td>\n",
       "      <td>NaN</td>\n",
       "      <td>1.117165e+07</td>\n",
       "      <td>1.117165e+07</td>\n",
       "      <td>11133500.0</td>\n",
       "    </tr>\n",
       "    <tr>\n",
       "      <th>2019-12-09 09:30:01</th>\n",
       "      <td>11173000.0</td>\n",
       "      <td>30.0</td>\n",
       "      <td>11150700.0</td>\n",
       "      <td>47.0</td>\n",
       "      <td>11173100.0</td>\n",
       "      <td>5.0</td>\n",
       "      <td>11150000.0</td>\n",
       "      <td>1118.0</td>\n",
       "      <td>11179000.0</td>\n",
       "      <td>43.0</td>\n",
       "      <td>...</td>\n",
       "      <td>-168.0</td>\n",
       "      <td>355400.0</td>\n",
       "      <td>272.0</td>\n",
       "      <td>496000.0</td>\n",
       "      <td>9.0</td>\n",
       "      <td>11157344.5</td>\n",
       "      <td>NaN</td>\n",
       "      <td>1.116208e+07</td>\n",
       "      <td>1.116208e+07</td>\n",
       "      <td>11136050.0</td>\n",
       "    </tr>\n",
       "    <tr>\n",
       "      <th>2019-12-09 09:30:02</th>\n",
       "      <td>11156300.0</td>\n",
       "      <td>1.0</td>\n",
       "      <td>11140000.0</td>\n",
       "      <td>175.0</td>\n",
       "      <td>11159300.0</td>\n",
       "      <td>30.0</td>\n",
       "      <td>11139600.0</td>\n",
       "      <td>100.0</td>\n",
       "      <td>11160500.0</td>\n",
       "      <td>30.0</td>\n",
       "      <td>...</td>\n",
       "      <td>-749.0</td>\n",
       "      <td>258000.0</td>\n",
       "      <td>120.0</td>\n",
       "      <td>315800.0</td>\n",
       "      <td>-684.0</td>\n",
       "      <td>11151097.5</td>\n",
       "      <td>NaN</td>\n",
       "      <td>1.115800e+07</td>\n",
       "      <td>1.115800e+07</td>\n",
       "      <td>11136550.0</td>\n",
       "    </tr>\n",
       "    <tr>\n",
       "      <th>2019-12-09 09:30:03</th>\n",
       "      <td>11150500.0</td>\n",
       "      <td>5.0</td>\n",
       "      <td>11140000.0</td>\n",
       "      <td>185.0</td>\n",
       "      <td>11150600.0</td>\n",
       "      <td>100.0</td>\n",
       "      <td>11139600.0</td>\n",
       "      <td>100.0</td>\n",
       "      <td>11154500.0</td>\n",
       "      <td>21.0</td>\n",
       "      <td>...</td>\n",
       "      <td>42.0</td>\n",
       "      <td>209500.0</td>\n",
       "      <td>1000.0</td>\n",
       "      <td>263500.0</td>\n",
       "      <td>-180.0</td>\n",
       "      <td>11148086.5</td>\n",
       "      <td>NaN</td>\n",
       "      <td>1.115649e+07</td>\n",
       "      <td>1.115649e+07</td>\n",
       "      <td>11136050.0</td>\n",
       "    </tr>\n",
       "    <tr>\n",
       "      <th>2019-12-09 09:30:04</th>\n",
       "      <td>11150500.0</td>\n",
       "      <td>5.0</td>\n",
       "      <td>11140000.0</td>\n",
       "      <td>185.0</td>\n",
       "      <td>11150600.0</td>\n",
       "      <td>100.0</td>\n",
       "      <td>11139600.0</td>\n",
       "      <td>100.0</td>\n",
       "      <td>11151800.0</td>\n",
       "      <td>25.0</td>\n",
       "      <td>...</td>\n",
       "      <td>175.0</td>\n",
       "      <td>178200.0</td>\n",
       "      <td>-152.0</td>\n",
       "      <td>223300.0</td>\n",
       "      <td>1125.0</td>\n",
       "      <td>11145910.0</td>\n",
       "      <td>NaN</td>\n",
       "      <td>1.115533e+07</td>\n",
       "      <td>1.115533e+07</td>\n",
       "      <td>11133850.0</td>\n",
       "    </tr>\n",
       "  </tbody>\n",
       "</table>\n",
       "<p>5 rows × 107 columns</p>\n",
       "</div>"
      ],
      "text/plain": [
       "                            Pa1   Va1         Pb1    Vb1         Pa2    Va2  \\\n",
       "2019-12-09 09:30:00  11177800.0  44.0  11165500.0  128.0  11227100.0  100.0   \n",
       "2019-12-09 09:30:01  11173000.0  30.0  11150700.0   47.0  11173100.0    5.0   \n",
       "2019-12-09 09:30:02  11156300.0   1.0  11140000.0  175.0  11159300.0   30.0   \n",
       "2019-12-09 09:30:03  11150500.0   5.0  11140000.0  185.0  11150600.0  100.0   \n",
       "2019-12-09 09:30:04  11150500.0   5.0  11140000.0  185.0  11150600.0  100.0   \n",
       "\n",
       "                            Pb2     Vb2         Pa3   Va3     ...      \\\n",
       "2019-12-09 09:30:00  11144200.0    66.0  11280000.0   2.0     ...       \n",
       "2019-12-09 09:30:01  11150000.0  1118.0  11179000.0  43.0     ...       \n",
       "2019-12-09 09:30:02  11139600.0   100.0  11160500.0  30.0     ...       \n",
       "2019-12-09 09:30:03  11139600.0   100.0  11154500.0  21.0     ...       \n",
       "2019-12-09 09:30:04  11139600.0   100.0  11151800.0  25.0     ...       \n",
       "\n",
       "                     vol_accum_diff8  pri_accum_diff9  vol_accum_diff9  \\\n",
       "2019-12-09 09:30:00              0.0        2575000.0           1600.0   \n",
       "2019-12-09 09:30:01           -168.0         355400.0            272.0   \n",
       "2019-12-09 09:30:02           -749.0         258000.0            120.0   \n",
       "2019-12-09 09:30:03             42.0         209500.0           1000.0   \n",
       "2019-12-09 09:30:04            175.0         178200.0           -152.0   \n",
       "\n",
       "                     pri_accum_diff10  vol_accum_diff10  midprice_win100  \\\n",
       "2019-12-09 09:30:00         3438800.0               0.0       11165574.0   \n",
       "2019-12-09 09:30:01          496000.0               9.0       11157344.5   \n",
       "2019-12-09 09:30:02          315800.0            -684.0       11151097.5   \n",
       "2019-12-09 09:30:03          263500.0            -180.0       11148086.5   \n",
       "2019-12-09 09:30:04          223300.0            1125.0       11145910.0   \n",
       "\n",
       "                     midprice_win1000  midprice_1MIN  midprice_average1MIN  \\\n",
       "2019-12-09 09:30:00               NaN   1.117165e+07          1.117165e+07   \n",
       "2019-12-09 09:30:01               NaN   1.116208e+07          1.116208e+07   \n",
       "2019-12-09 09:30:02               NaN   1.115800e+07          1.115800e+07   \n",
       "2019-12-09 09:30:03               NaN   1.115649e+07          1.115649e+07   \n",
       "2019-12-09 09:30:04               NaN   1.115533e+07          1.115533e+07   \n",
       "\n",
       "                          label  \n",
       "2019-12-09 09:30:00  11133500.0  \n",
       "2019-12-09 09:30:01  11136050.0  \n",
       "2019-12-09 09:30:02  11136550.0  \n",
       "2019-12-09 09:30:03  11136050.0  \n",
       "2019-12-09 09:30:04  11133850.0  \n",
       "\n",
       "[5 rows x 107 columns]"
      ]
     },
     "execution_count": 108,
     "metadata": {},
     "output_type": "execute_result"
    }
   ],
   "source": [
    "df_orderbook1s.head()"
   ]
  },
  {
   "cell_type": "code",
   "execution_count": 84,
   "metadata": {},
   "outputs": [],
   "source": [
    "duration = '1min'\n",
    "label = df_orderbook.resample(duration).agg({'midprice1':'last'})"
   ]
  },
  {
   "cell_type": "code",
   "execution_count": 85,
   "metadata": {},
   "outputs": [
    {
     "data": {
      "text/plain": [
       "(390, 1)"
      ]
     },
     "execution_count": 85,
     "metadata": {},
     "output_type": "execute_result"
    }
   ],
   "source": [
    "label.shape"
   ]
  },
  {
   "cell_type": "code",
   "execution_count": 72,
   "metadata": {},
   "outputs": [],
   "source": [
    "= df_orderbook.resample('5MIN').agg({'midprice1':'last'})"
   ]
  },
  {
   "cell_type": "code",
   "execution_count": null,
   "metadata": {},
   "outputs": [],
   "source": [
    "df_message = pd.read_csv(message,usecols = [0,1,3,4,5], names=['time', 'type','size','price','direction'])\n",
    "df_message.index = pd.Timestamp(datetime.date.today()) + pd.TimedeltaIndex(df_message.time, unit='s')"
   ]
  },
  {
   "cell_type": "code",
   "execution_count": null,
   "metadata": {},
   "outputs": [],
   "source": [
    "df_message.head()"
   ]
  },
  {
   "cell_type": "code",
   "execution_count": null,
   "metadata": {},
   "outputs": [],
   "source": [
    "df_orderbook.index = df_message.index\n",
    "df_orderbook.head()"
   ]
  },
  {
   "cell_type": "code",
   "execution_count": null,
   "metadata": {},
   "outputs": [],
   "source": [
    "df_orderbook.describe()"
   ]
  },
  {
   "cell_type": "code",
   "execution_count": null,
   "metadata": {},
   "outputs": [],
   "source": [
    "# construction of features\n",
    "https://davidsevangelista.github.io/post/basic_statistics_order_imbalance/"
   ]
  },
  {
   "cell_type": "markdown",
   "metadata": {},
   "source": [
    "# Order imbalance "
   ]
  },
  {
   "cell_type": "code",
   "execution_count": null,
   "metadata": {},
   "outputs": [],
   "source": [
    "# create order imbalance \n",
    "df_orderbook[\"imb1\"] = (df_orderbook['bid_size1'] - df_orderbook['ask_size1']) / (df_orderbook['bid_size1'] + df_orderbook['ask_size1'])"
   ]
  },
  {
   "cell_type": "code",
   "execution_count": null,
   "metadata": {},
   "outputs": [],
   "source": [
    "df_all = pd.concat([df_message, df_orderbook],axis=1)"
   ]
  },
  {
   "cell_type": "code",
   "execution_count": null,
   "metadata": {},
   "outputs": [],
   "source": [
    "plt.acorr(df_all['imb1'])\n",
    "plt.show()"
   ]
  },
  {
   "cell_type": "code",
   "execution_count": null,
   "metadata": {},
   "outputs": [],
   "source": []
  },
  {
   "cell_type": "code",
   "execution_count": null,
   "metadata": {},
   "outputs": [],
   "source": [
    "df_all['imb1'].describe()"
   ]
  },
  {
   "cell_type": "code",
   "execution_count": null,
   "metadata": {},
   "outputs": [],
   "source": [
    "def regime(a):\n",
    "    if a < -0.741379: \n",
    "        reg = 1\n",
    "    elif a < 0:\n",
    "        reg = 2\n",
    "    elif a < 0.720930:\n",
    "        reg = 3\n",
    "    else:\n",
    "        reg = 4\n",
    "    return reg\n",
    "\n",
    "df_all['imb1_reg'] = list(map(regime, df_all.copy()[\"imb1\"]))"
   ]
  },
  {
   "cell_type": "code",
   "execution_count": null,
   "metadata": {},
   "outputs": [],
   "source": [
    "df_all[\"imb_previous\"] = df_all['imb1_reg'].shift(1)"
   ]
  },
  {
   "cell_type": "code",
   "execution_count": null,
   "metadata": {},
   "outputs": [],
   "source": [
    "df_trade = df_all[(df_all['type'] == 4) | (df_all['type'] == 5)]"
   ]
  },
  {
   "cell_type": "code",
   "execution_count": null,
   "metadata": {},
   "outputs": [],
   "source": [
    "df_trade.groupby([\"imb_previous\",\"direction\"]).count()[['time']]"
   ]
  },
  {
   "cell_type": "code",
   "execution_count": null,
   "metadata": {},
   "outputs": [],
   "source": [
    "df_trade.columns"
   ]
  },
  {
   "cell_type": "code",
   "execution_count": null,
   "metadata": {},
   "outputs": [],
   "source": [
    "df_sell = df_trade[df_trade['direction']==1].resample(\"1min\").agg({'size':'sum'})\n",
    "df_buy = df_trade[df_trade['direction']==-1].resample(\"1min\").agg({'size':'sum'})\n",
    "df_trade_volume = pd.concat([df_sell.rename(columns={'size':'sell'}),df_buy.rename(columns={'size':'buy'}), df_mo]\n",
    "                            ,axis=1)\n",
    "df_trade_volume[\"direction\"] = df_trade.resample(\"1min\").agg({'direction':'first'}).shift(-1)"
   ]
  },
  {
   "cell_type": "code",
   "execution_count": null,
   "metadata": {},
   "outputs": [],
   "source": [
    "df_trade_volume.head()\n",
    "df_trade_volume[\"imb\"] = (df_trade_volume['buy'] - df_trade_volume['sell']) / (df_trade_volume['buy'] + df_trade_volume['sell'])\n",
    "df_trade_volume['imb_reg'] = list(map(regime, df_trade_volume.copy()[\"imb\"]))\n",
    "df_trade_volume.dropna(inplace=True)"
   ]
  },
  {
   "cell_type": "code",
   "execution_count": null,
   "metadata": {},
   "outputs": [],
   "source": [
    "type(df_trade_volume['imb'])"
   ]
  },
  {
   "cell_type": "code",
   "execution_count": null,
   "metadata": {},
   "outputs": [],
   "source": [
    "plt.acorr(df_trade_volume['imb'])\n",
    "plt.show()"
   ]
  },
  {
   "cell_type": "code",
   "execution_count": null,
   "metadata": {},
   "outputs": [],
   "source": [
    "# predicting the volume for the next period"
   ]
  },
  {
   "cell_type": "code",
   "execution_count": null,
   "metadata": {},
   "outputs": [],
   "source": [
    "# predicting next trade direction"
   ]
  },
  {
   "cell_type": "code",
   "execution_count": null,
   "metadata": {},
   "outputs": [],
   "source": [
    "# predicting next limit order direction"
   ]
  },
  {
   "cell_type": "code",
   "execution_count": null,
   "metadata": {},
   "outputs": [],
   "source": [
    "# prediction total order of 10 levels"
   ]
  },
  {
   "cell_type": "code",
   "execution_count": null,
   "metadata": {},
   "outputs": [],
   "source": [
    "!python -V"
   ]
  }
 ],
 "metadata": {
  "kernelspec": {
   "display_name": "Python 3",
   "language": "python",
   "name": "python3"
  },
  "language_info": {
   "codemirror_mode": {
    "name": "ipython",
    "version": 3
   },
   "file_extension": ".py",
   "mimetype": "text/x-python",
   "name": "python",
   "nbconvert_exporter": "python",
   "pygments_lexer": "ipython3",
   "version": "3.5.2"
  }
 },
 "nbformat": 4,
 "nbformat_minor": 2
}
