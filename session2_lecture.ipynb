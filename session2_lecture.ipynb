{
 "cells": [
  {
   "cell_type": "code",
   "execution_count": 53,
   "metadata": {},
   "outputs": [],
   "source": [
    "import pandas as pd\n",
    "import numpy as np\n",
    "import matplotlib.pyplot as plt\n",
    "import datetime"
   ]
  },
  {
   "cell_type": "code",
   "execution_count": 54,
   "metadata": {},
   "outputs": [],
   "source": [
    "orderbook = \"../datasets/PTP/GOOGL_2018-07-02_34200000_57600000_orderbook_10.csv\"\n",
    "message = \"../datasets/PTP/GOOGL_2018-07-02_34200000_57600000_message_10.csv\""
   ]
  },
  {
   "cell_type": "code",
   "execution_count": 55,
   "metadata": {},
   "outputs": [],
   "source": [
    "header_list = []\n",
    "for i in range(10):\n",
    "    header_list = header_list + [\"ask_price%d\"%(i+1),\"ask_size%d\"%(i+1),\"bid_price%d\"%(i+1),\"bid_size%d\"%(i+1) ]"
   ]
  },
  {
   "cell_type": "code",
   "execution_count": 56,
   "metadata": {},
   "outputs": [],
   "source": [
    "df_orderbook = pd.read_csv(orderbook,header=None,names=header_list)"
   ]
  },
  {
   "cell_type": "code",
   "execution_count": null,
   "metadata": {},
   "outputs": [],
   "source": [
    "df_orderbook.shape"
   ]
  },
  {
   "cell_type": "code",
   "execution_count": 57,
   "metadata": {},
   "outputs": [],
   "source": [
    "df_message = pd.read_csv(message,usecols = [0,1,3,4,5], names=['time', 'type','size','price','direction'])\n",
    "df_message.index = pd.Timestamp(datetime.date.today()) + pd.TimedeltaIndex(df_message.time, unit='s')"
   ]
  },
  {
   "cell_type": "code",
   "execution_count": 8,
   "metadata": {},
   "outputs": [
    {
     "data": {
      "text/html": [
       "<div>\n",
       "<style scoped>\n",
       "    .dataframe tbody tr th:only-of-type {\n",
       "        vertical-align: middle;\n",
       "    }\n",
       "\n",
       "    .dataframe tbody tr th {\n",
       "        vertical-align: top;\n",
       "    }\n",
       "\n",
       "    .dataframe thead th {\n",
       "        text-align: right;\n",
       "    }\n",
       "</style>\n",
       "<table border=\"1\" class=\"dataframe\">\n",
       "  <thead>\n",
       "    <tr style=\"text-align: right;\">\n",
       "      <th></th>\n",
       "      <th>time</th>\n",
       "      <th>type</th>\n",
       "      <th>size</th>\n",
       "      <th>price</th>\n",
       "      <th>direction</th>\n",
       "    </tr>\n",
       "  </thead>\n",
       "  <tbody>\n",
       "    <tr>\n",
       "      <th>2019-12-07 09:30:00.001513</th>\n",
       "      <td>34200.001513</td>\n",
       "      <td>4</td>\n",
       "      <td>1</td>\n",
       "      <td>11165500</td>\n",
       "      <td>1</td>\n",
       "    </tr>\n",
       "    <tr>\n",
       "      <th>2019-12-07 09:30:00.006005</th>\n",
       "      <td>34200.006005</td>\n",
       "      <td>4</td>\n",
       "      <td>1</td>\n",
       "      <td>11165500</td>\n",
       "      <td>1</td>\n",
       "    </tr>\n",
       "    <tr>\n",
       "      <th>2019-12-07 09:30:00.007099</th>\n",
       "      <td>34200.007099</td>\n",
       "      <td>1</td>\n",
       "      <td>5</td>\n",
       "      <td>11158600</td>\n",
       "      <td>1</td>\n",
       "    </tr>\n",
       "    <tr>\n",
       "      <th>2019-12-07 09:30:00.008490</th>\n",
       "      <td>34200.008490</td>\n",
       "      <td>1</td>\n",
       "      <td>100</td>\n",
       "      <td>10942200</td>\n",
       "      <td>1</td>\n",
       "    </tr>\n",
       "    <tr>\n",
       "      <th>2019-12-07 09:30:00.009083</th>\n",
       "      <td>34200.009083</td>\n",
       "      <td>1</td>\n",
       "      <td>100</td>\n",
       "      <td>11402200</td>\n",
       "      <td>-1</td>\n",
       "    </tr>\n",
       "  </tbody>\n",
       "</table>\n",
       "</div>"
      ],
      "text/plain": [
       "                                    time  type  size     price  direction\n",
       "2019-12-07 09:30:00.001513  34200.001513     4     1  11165500          1\n",
       "2019-12-07 09:30:00.006005  34200.006005     4     1  11165500          1\n",
       "2019-12-07 09:30:00.007099  34200.007099     1     5  11158600          1\n",
       "2019-12-07 09:30:00.008490  34200.008490     1   100  10942200          1\n",
       "2019-12-07 09:30:00.009083  34200.009083     1   100  11402200         -1"
      ]
     },
     "execution_count": 8,
     "metadata": {},
     "output_type": "execute_result"
    }
   ],
   "source": [
    "df_message.head()"
   ]
  },
  {
   "cell_type": "code",
   "execution_count": 61,
   "metadata": {},
   "outputs": [
    {
     "data": {
      "text/html": [
       "<div>\n",
       "<style scoped>\n",
       "    .dataframe tbody tr th:only-of-type {\n",
       "        vertical-align: middle;\n",
       "    }\n",
       "\n",
       "    .dataframe tbody tr th {\n",
       "        vertical-align: top;\n",
       "    }\n",
       "\n",
       "    .dataframe thead th {\n",
       "        text-align: right;\n",
       "    }\n",
       "</style>\n",
       "<table border=\"1\" class=\"dataframe\">\n",
       "  <thead>\n",
       "    <tr style=\"text-align: right;\">\n",
       "      <th></th>\n",
       "      <th>ask_price1</th>\n",
       "      <th>ask_size1</th>\n",
       "      <th>bid_price1</th>\n",
       "      <th>bid_size1</th>\n",
       "      <th>ask_price2</th>\n",
       "      <th>ask_size2</th>\n",
       "      <th>bid_price2</th>\n",
       "      <th>bid_size2</th>\n",
       "      <th>ask_price3</th>\n",
       "      <th>ask_size3</th>\n",
       "      <th>...</th>\n",
       "      <th>bid_size8</th>\n",
       "      <th>ask_price9</th>\n",
       "      <th>ask_size9</th>\n",
       "      <th>bid_price9</th>\n",
       "      <th>bid_size9</th>\n",
       "      <th>ask_price10</th>\n",
       "      <th>ask_size10</th>\n",
       "      <th>bid_price10</th>\n",
       "      <th>bid_size10</th>\n",
       "      <th>imb1</th>\n",
       "    </tr>\n",
       "  </thead>\n",
       "  <tbody>\n",
       "    <tr>\n",
       "      <th>2019-12-09 09:30:00.001513</th>\n",
       "      <td>11177800</td>\n",
       "      <td>44</td>\n",
       "      <td>11165500</td>\n",
       "      <td>128</td>\n",
       "      <td>11227100</td>\n",
       "      <td>100</td>\n",
       "      <td>11144200</td>\n",
       "      <td>66</td>\n",
       "      <td>11280000</td>\n",
       "      <td>2</td>\n",
       "      <td>...</td>\n",
       "      <td>100</td>\n",
       "      <td>11605000</td>\n",
       "      <td>300</td>\n",
       "      <td>10741200</td>\n",
       "      <td>100</td>\n",
       "      <td>11638100</td>\n",
       "      <td>100</td>\n",
       "      <td>10698500</td>\n",
       "      <td>100</td>\n",
       "      <td>0.488372</td>\n",
       "    </tr>\n",
       "    <tr>\n",
       "      <th>2019-12-09 09:30:00.006005</th>\n",
       "      <td>11177800</td>\n",
       "      <td>44</td>\n",
       "      <td>11165500</td>\n",
       "      <td>127</td>\n",
       "      <td>11227100</td>\n",
       "      <td>100</td>\n",
       "      <td>11144200</td>\n",
       "      <td>66</td>\n",
       "      <td>11280000</td>\n",
       "      <td>2</td>\n",
       "      <td>...</td>\n",
       "      <td>100</td>\n",
       "      <td>11605000</td>\n",
       "      <td>300</td>\n",
       "      <td>10741200</td>\n",
       "      <td>100</td>\n",
       "      <td>11638100</td>\n",
       "      <td>100</td>\n",
       "      <td>10698500</td>\n",
       "      <td>100</td>\n",
       "      <td>0.485380</td>\n",
       "    </tr>\n",
       "    <tr>\n",
       "      <th>2019-12-09 09:30:00.007099</th>\n",
       "      <td>11177800</td>\n",
       "      <td>44</td>\n",
       "      <td>11165500</td>\n",
       "      <td>127</td>\n",
       "      <td>11227100</td>\n",
       "      <td>100</td>\n",
       "      <td>11158600</td>\n",
       "      <td>5</td>\n",
       "      <td>11280000</td>\n",
       "      <td>2</td>\n",
       "      <td>...</td>\n",
       "      <td>100</td>\n",
       "      <td>11605000</td>\n",
       "      <td>300</td>\n",
       "      <td>10809900</td>\n",
       "      <td>100</td>\n",
       "      <td>11638100</td>\n",
       "      <td>100</td>\n",
       "      <td>10741200</td>\n",
       "      <td>100</td>\n",
       "      <td>0.485380</td>\n",
       "    </tr>\n",
       "    <tr>\n",
       "      <th>2019-12-09 09:30:00.008490</th>\n",
       "      <td>11177800</td>\n",
       "      <td>44</td>\n",
       "      <td>11165500</td>\n",
       "      <td>127</td>\n",
       "      <td>11227100</td>\n",
       "      <td>100</td>\n",
       "      <td>11158600</td>\n",
       "      <td>5</td>\n",
       "      <td>11280000</td>\n",
       "      <td>2</td>\n",
       "      <td>...</td>\n",
       "      <td>100</td>\n",
       "      <td>11605000</td>\n",
       "      <td>300</td>\n",
       "      <td>10877800</td>\n",
       "      <td>100</td>\n",
       "      <td>11638100</td>\n",
       "      <td>100</td>\n",
       "      <td>10809900</td>\n",
       "      <td>100</td>\n",
       "      <td>0.485380</td>\n",
       "    </tr>\n",
       "    <tr>\n",
       "      <th>2019-12-09 09:30:00.009083</th>\n",
       "      <td>11177800</td>\n",
       "      <td>44</td>\n",
       "      <td>11165500</td>\n",
       "      <td>127</td>\n",
       "      <td>11227100</td>\n",
       "      <td>100</td>\n",
       "      <td>11158600</td>\n",
       "      <td>5</td>\n",
       "      <td>11280000</td>\n",
       "      <td>2</td>\n",
       "      <td>...</td>\n",
       "      <td>100</td>\n",
       "      <td>11591800</td>\n",
       "      <td>100</td>\n",
       "      <td>10877800</td>\n",
       "      <td>100</td>\n",
       "      <td>11605000</td>\n",
       "      <td>300</td>\n",
       "      <td>10809900</td>\n",
       "      <td>100</td>\n",
       "      <td>0.485380</td>\n",
       "    </tr>\n",
       "  </tbody>\n",
       "</table>\n",
       "<p>5 rows × 41 columns</p>\n",
       "</div>"
      ],
      "text/plain": [
       "                            ask_price1  ask_size1  bid_price1  bid_size1  \\\n",
       "2019-12-09 09:30:00.001513    11177800         44    11165500        128   \n",
       "2019-12-09 09:30:00.006005    11177800         44    11165500        127   \n",
       "2019-12-09 09:30:00.007099    11177800         44    11165500        127   \n",
       "2019-12-09 09:30:00.008490    11177800         44    11165500        127   \n",
       "2019-12-09 09:30:00.009083    11177800         44    11165500        127   \n",
       "\n",
       "                            ask_price2  ask_size2  bid_price2  bid_size2  \\\n",
       "2019-12-09 09:30:00.001513    11227100        100    11144200         66   \n",
       "2019-12-09 09:30:00.006005    11227100        100    11144200         66   \n",
       "2019-12-09 09:30:00.007099    11227100        100    11158600          5   \n",
       "2019-12-09 09:30:00.008490    11227100        100    11158600          5   \n",
       "2019-12-09 09:30:00.009083    11227100        100    11158600          5   \n",
       "\n",
       "                            ask_price3  ask_size3    ...     bid_size8  \\\n",
       "2019-12-09 09:30:00.001513    11280000          2    ...           100   \n",
       "2019-12-09 09:30:00.006005    11280000          2    ...           100   \n",
       "2019-12-09 09:30:00.007099    11280000          2    ...           100   \n",
       "2019-12-09 09:30:00.008490    11280000          2    ...           100   \n",
       "2019-12-09 09:30:00.009083    11280000          2    ...           100   \n",
       "\n",
       "                            ask_price9  ask_size9  bid_price9  bid_size9  \\\n",
       "2019-12-09 09:30:00.001513    11605000        300    10741200        100   \n",
       "2019-12-09 09:30:00.006005    11605000        300    10741200        100   \n",
       "2019-12-09 09:30:00.007099    11605000        300    10809900        100   \n",
       "2019-12-09 09:30:00.008490    11605000        300    10877800        100   \n",
       "2019-12-09 09:30:00.009083    11591800        100    10877800        100   \n",
       "\n",
       "                            ask_price10  ask_size10  bid_price10  bid_size10  \\\n",
       "2019-12-09 09:30:00.001513     11638100         100     10698500         100   \n",
       "2019-12-09 09:30:00.006005     11638100         100     10698500         100   \n",
       "2019-12-09 09:30:00.007099     11638100         100     10741200         100   \n",
       "2019-12-09 09:30:00.008490     11638100         100     10809900         100   \n",
       "2019-12-09 09:30:00.009083     11605000         300     10809900         100   \n",
       "\n",
       "                                imb1  \n",
       "2019-12-09 09:30:00.001513  0.488372  \n",
       "2019-12-09 09:30:00.006005  0.485380  \n",
       "2019-12-09 09:30:00.007099  0.485380  \n",
       "2019-12-09 09:30:00.008490  0.485380  \n",
       "2019-12-09 09:30:00.009083  0.485380  \n",
       "\n",
       "[5 rows x 41 columns]"
      ]
     },
     "execution_count": 61,
     "metadata": {},
     "output_type": "execute_result"
    }
   ],
   "source": [
    "df_orderbook.index = df_message.index\n",
    "df_orderbook.head()"
   ]
  },
  {
   "cell_type": "code",
   "execution_count": 7,
   "metadata": {},
   "outputs": [
    {
     "data": {
      "text/html": [
       "<div>\n",
       "<style scoped>\n",
       "    .dataframe tbody tr th:only-of-type {\n",
       "        vertical-align: middle;\n",
       "    }\n",
       "\n",
       "    .dataframe tbody tr th {\n",
       "        vertical-align: top;\n",
       "    }\n",
       "\n",
       "    .dataframe thead th {\n",
       "        text-align: right;\n",
       "    }\n",
       "</style>\n",
       "<table border=\"1\" class=\"dataframe\">\n",
       "  <thead>\n",
       "    <tr style=\"text-align: right;\">\n",
       "      <th></th>\n",
       "      <th>ask_price1</th>\n",
       "      <th>ask_size1</th>\n",
       "      <th>bid_price1</th>\n",
       "      <th>bid_size1</th>\n",
       "      <th>ask_price2</th>\n",
       "      <th>ask_size2</th>\n",
       "      <th>bid_price2</th>\n",
       "      <th>bid_size2</th>\n",
       "      <th>ask_price3</th>\n",
       "      <th>ask_size3</th>\n",
       "      <th>...</th>\n",
       "      <th>bid_price8</th>\n",
       "      <th>bid_size8</th>\n",
       "      <th>ask_price9</th>\n",
       "      <th>ask_size9</th>\n",
       "      <th>bid_price9</th>\n",
       "      <th>bid_size9</th>\n",
       "      <th>ask_price10</th>\n",
       "      <th>ask_size10</th>\n",
       "      <th>bid_price10</th>\n",
       "      <th>bid_size10</th>\n",
       "    </tr>\n",
       "  </thead>\n",
       "  <tbody>\n",
       "    <tr>\n",
       "      <th>count</th>\n",
       "      <td>3.249700e+05</td>\n",
       "      <td>324970.00000</td>\n",
       "      <td>3.249700e+05</td>\n",
       "      <td>324970.000000</td>\n",
       "      <td>3.249700e+05</td>\n",
       "      <td>324970.000000</td>\n",
       "      <td>3.249700e+05</td>\n",
       "      <td>324970.000000</td>\n",
       "      <td>3.249700e+05</td>\n",
       "      <td>324970.000000</td>\n",
       "      <td>...</td>\n",
       "      <td>3.249700e+05</td>\n",
       "      <td>324970.000000</td>\n",
       "      <td>3.249700e+05</td>\n",
       "      <td>324970.000000</td>\n",
       "      <td>3.249700e+05</td>\n",
       "      <td>324970.000000</td>\n",
       "      <td>3.249700e+05</td>\n",
       "      <td>324970.000000</td>\n",
       "      <td>3.249700e+05</td>\n",
       "      <td>324970.000000</td>\n",
       "    </tr>\n",
       "    <tr>\n",
       "      <th>mean</th>\n",
       "      <td>1.127200e+07</td>\n",
       "      <td>64.48226</td>\n",
       "      <td>1.126556e+07</td>\n",
       "      <td>67.278269</td>\n",
       "      <td>1.127332e+07</td>\n",
       "      <td>67.668948</td>\n",
       "      <td>1.126427e+07</td>\n",
       "      <td>64.468369</td>\n",
       "      <td>1.127447e+07</td>\n",
       "      <td>63.925233</td>\n",
       "      <td>...</td>\n",
       "      <td>1.125795e+07</td>\n",
       "      <td>61.595557</td>\n",
       "      <td>1.128059e+07</td>\n",
       "      <td>63.757528</td>\n",
       "      <td>1.125689e+07</td>\n",
       "      <td>59.959999</td>\n",
       "      <td>1.128157e+07</td>\n",
       "      <td>66.042782</td>\n",
       "      <td>1.125578e+07</td>\n",
       "      <td>59.262621</td>\n",
       "    </tr>\n",
       "    <tr>\n",
       "      <th>std</th>\n",
       "      <td>7.221326e+04</td>\n",
       "      <td>99.35594</td>\n",
       "      <td>7.320642e+04</td>\n",
       "      <td>162.185377</td>\n",
       "      <td>7.187382e+04</td>\n",
       "      <td>113.576603</td>\n",
       "      <td>7.325835e+04</td>\n",
       "      <td>108.606898</td>\n",
       "      <td>7.154400e+04</td>\n",
       "      <td>113.520416</td>\n",
       "      <td>...</td>\n",
       "      <td>7.385454e+04</td>\n",
       "      <td>49.791641</td>\n",
       "      <td>7.015895e+04</td>\n",
       "      <td>87.250683</td>\n",
       "      <td>7.404492e+04</td>\n",
       "      <td>47.069760</td>\n",
       "      <td>7.001852e+04</td>\n",
       "      <td>93.818149</td>\n",
       "      <td>7.429260e+04</td>\n",
       "      <td>47.240098</td>\n",
       "    </tr>\n",
       "    <tr>\n",
       "      <th>min</th>\n",
       "      <td>1.107290e+07</td>\n",
       "      <td>1.00000</td>\n",
       "      <td>1.106600e+07</td>\n",
       "      <td>1.000000</td>\n",
       "      <td>1.107720e+07</td>\n",
       "      <td>1.000000</td>\n",
       "      <td>1.106550e+07</td>\n",
       "      <td>1.000000</td>\n",
       "      <td>1.107800e+07</td>\n",
       "      <td>1.000000</td>\n",
       "      <td>...</td>\n",
       "      <td>1.080990e+07</td>\n",
       "      <td>1.000000</td>\n",
       "      <td>1.108810e+07</td>\n",
       "      <td>1.000000</td>\n",
       "      <td>1.074120e+07</td>\n",
       "      <td>1.000000</td>\n",
       "      <td>1.108860e+07</td>\n",
       "      <td>1.000000</td>\n",
       "      <td>1.069850e+07</td>\n",
       "      <td>1.000000</td>\n",
       "    </tr>\n",
       "    <tr>\n",
       "      <th>25%</th>\n",
       "      <td>1.123360e+07</td>\n",
       "      <td>2.00000</td>\n",
       "      <td>1.122790e+07</td>\n",
       "      <td>1.000000</td>\n",
       "      <td>1.123490e+07</td>\n",
       "      <td>2.000000</td>\n",
       "      <td>1.122570e+07</td>\n",
       "      <td>3.000000</td>\n",
       "      <td>1.123580e+07</td>\n",
       "      <td>5.000000</td>\n",
       "      <td>...</td>\n",
       "      <td>1.122030e+07</td>\n",
       "      <td>22.000000</td>\n",
       "      <td>1.124110e+07</td>\n",
       "      <td>24.000000</td>\n",
       "      <td>1.122000e+07</td>\n",
       "      <td>22.000000</td>\n",
       "      <td>1.124180e+07</td>\n",
       "      <td>25.000000</td>\n",
       "      <td>1.121930e+07</td>\n",
       "      <td>21.000000</td>\n",
       "    </tr>\n",
       "    <tr>\n",
       "      <th>50%</th>\n",
       "      <td>1.125080e+07</td>\n",
       "      <td>30.00000</td>\n",
       "      <td>1.124400e+07</td>\n",
       "      <td>20.000000</td>\n",
       "      <td>1.125220e+07</td>\n",
       "      <td>30.000000</td>\n",
       "      <td>1.124200e+07</td>\n",
       "      <td>35.000000</td>\n",
       "      <td>1.125350e+07</td>\n",
       "      <td>30.000000</td>\n",
       "      <td>...</td>\n",
       "      <td>1.123690e+07</td>\n",
       "      <td>57.000000</td>\n",
       "      <td>1.125930e+07</td>\n",
       "      <td>62.000000</td>\n",
       "      <td>1.123580e+07</td>\n",
       "      <td>53.000000</td>\n",
       "      <td>1.126000e+07</td>\n",
       "      <td>68.000000</td>\n",
       "      <td>1.123540e+07</td>\n",
       "      <td>51.000000</td>\n",
       "    </tr>\n",
       "    <tr>\n",
       "      <th>75%</th>\n",
       "      <td>1.134820e+07</td>\n",
       "      <td>100.00000</td>\n",
       "      <td>1.134170e+07</td>\n",
       "      <td>100.000000</td>\n",
       "      <td>1.134890e+07</td>\n",
       "      <td>100.000000</td>\n",
       "      <td>1.134040e+07</td>\n",
       "      <td>100.000000</td>\n",
       "      <td>1.135000e+07</td>\n",
       "      <td>100.000000</td>\n",
       "      <td>...</td>\n",
       "      <td>1.133470e+07</td>\n",
       "      <td>100.000000</td>\n",
       "      <td>1.135520e+07</td>\n",
       "      <td>100.000000</td>\n",
       "      <td>1.133360e+07</td>\n",
       "      <td>100.000000</td>\n",
       "      <td>1.135560e+07</td>\n",
       "      <td>100.000000</td>\n",
       "      <td>1.133150e+07</td>\n",
       "      <td>100.000000</td>\n",
       "    </tr>\n",
       "    <tr>\n",
       "      <th>max</th>\n",
       "      <td>1.142990e+07</td>\n",
       "      <td>1822.00000</td>\n",
       "      <td>1.142960e+07</td>\n",
       "      <td>10000.000000</td>\n",
       "      <td>1.143000e+07</td>\n",
       "      <td>1882.000000</td>\n",
       "      <td>1.142650e+07</td>\n",
       "      <td>5000.000000</td>\n",
       "      <td>1.143030e+07</td>\n",
       "      <td>1882.000000</td>\n",
       "      <td>...</td>\n",
       "      <td>1.142060e+07</td>\n",
       "      <td>903.000000</td>\n",
       "      <td>1.160500e+07</td>\n",
       "      <td>1847.000000</td>\n",
       "      <td>1.141910e+07</td>\n",
       "      <td>903.000000</td>\n",
       "      <td>1.163810e+07</td>\n",
       "      <td>1823.000000</td>\n",
       "      <td>1.141900e+07</td>\n",
       "      <td>903.000000</td>\n",
       "    </tr>\n",
       "  </tbody>\n",
       "</table>\n",
       "<p>8 rows × 40 columns</p>\n",
       "</div>"
      ],
      "text/plain": [
       "         ask_price1     ask_size1    bid_price1      bid_size1    ask_price2  \\\n",
       "count  3.249700e+05  324970.00000  3.249700e+05  324970.000000  3.249700e+05   \n",
       "mean   1.127200e+07      64.48226  1.126556e+07      67.278269  1.127332e+07   \n",
       "std    7.221326e+04      99.35594  7.320642e+04     162.185377  7.187382e+04   \n",
       "min    1.107290e+07       1.00000  1.106600e+07       1.000000  1.107720e+07   \n",
       "25%    1.123360e+07       2.00000  1.122790e+07       1.000000  1.123490e+07   \n",
       "50%    1.125080e+07      30.00000  1.124400e+07      20.000000  1.125220e+07   \n",
       "75%    1.134820e+07     100.00000  1.134170e+07     100.000000  1.134890e+07   \n",
       "max    1.142990e+07    1822.00000  1.142960e+07   10000.000000  1.143000e+07   \n",
       "\n",
       "           ask_size2    bid_price2      bid_size2    ask_price3  \\\n",
       "count  324970.000000  3.249700e+05  324970.000000  3.249700e+05   \n",
       "mean       67.668948  1.126427e+07      64.468369  1.127447e+07   \n",
       "std       113.576603  7.325835e+04     108.606898  7.154400e+04   \n",
       "min         1.000000  1.106550e+07       1.000000  1.107800e+07   \n",
       "25%         2.000000  1.122570e+07       3.000000  1.123580e+07   \n",
       "50%        30.000000  1.124200e+07      35.000000  1.125350e+07   \n",
       "75%       100.000000  1.134040e+07     100.000000  1.135000e+07   \n",
       "max      1882.000000  1.142650e+07    5000.000000  1.143030e+07   \n",
       "\n",
       "           ask_size3      ...          bid_price8      bid_size8  \\\n",
       "count  324970.000000      ...        3.249700e+05  324970.000000   \n",
       "mean       63.925233      ...        1.125795e+07      61.595557   \n",
       "std       113.520416      ...        7.385454e+04      49.791641   \n",
       "min         1.000000      ...        1.080990e+07       1.000000   \n",
       "25%         5.000000      ...        1.122030e+07      22.000000   \n",
       "50%        30.000000      ...        1.123690e+07      57.000000   \n",
       "75%       100.000000      ...        1.133470e+07     100.000000   \n",
       "max      1882.000000      ...        1.142060e+07     903.000000   \n",
       "\n",
       "         ask_price9      ask_size9    bid_price9      bid_size9   ask_price10  \\\n",
       "count  3.249700e+05  324970.000000  3.249700e+05  324970.000000  3.249700e+05   \n",
       "mean   1.128059e+07      63.757528  1.125689e+07      59.959999  1.128157e+07   \n",
       "std    7.015895e+04      87.250683  7.404492e+04      47.069760  7.001852e+04   \n",
       "min    1.108810e+07       1.000000  1.074120e+07       1.000000  1.108860e+07   \n",
       "25%    1.124110e+07      24.000000  1.122000e+07      22.000000  1.124180e+07   \n",
       "50%    1.125930e+07      62.000000  1.123580e+07      53.000000  1.126000e+07   \n",
       "75%    1.135520e+07     100.000000  1.133360e+07     100.000000  1.135560e+07   \n",
       "max    1.160500e+07    1847.000000  1.141910e+07     903.000000  1.163810e+07   \n",
       "\n",
       "          ask_size10   bid_price10     bid_size10  \n",
       "count  324970.000000  3.249700e+05  324970.000000  \n",
       "mean       66.042782  1.125578e+07      59.262621  \n",
       "std        93.818149  7.429260e+04      47.240098  \n",
       "min         1.000000  1.069850e+07       1.000000  \n",
       "25%        25.000000  1.121930e+07      21.000000  \n",
       "50%        68.000000  1.123540e+07      51.000000  \n",
       "75%       100.000000  1.133150e+07     100.000000  \n",
       "max      1823.000000  1.141900e+07     903.000000  \n",
       "\n",
       "[8 rows x 40 columns]"
      ]
     },
     "execution_count": 7,
     "metadata": {},
     "output_type": "execute_result"
    }
   ],
   "source": [
    "df_orderbook.describe()"
   ]
  },
  {
   "cell_type": "code",
   "execution_count": null,
   "metadata": {},
   "outputs": [],
   "source": [
    "# construction of features\n",
    "https://davidsevangelista.github.io/post/basic_statistics_order_imbalance/"
   ]
  },
  {
   "cell_type": "markdown",
   "metadata": {},
   "source": [
    "# Order imbalance "
   ]
  },
  {
   "cell_type": "code",
   "execution_count": 62,
   "metadata": {},
   "outputs": [],
   "source": [
    "# create order imbalance \n",
    "df_orderbook[\"imb1\"] = (df_orderbook['bid_size1'] - df_orderbook['ask_size1']) / (df_orderbook['bid_size1'] + df_orderbook['ask_size1'])"
   ]
  },
  {
   "cell_type": "code",
   "execution_count": 63,
   "metadata": {},
   "outputs": [],
   "source": [
    "df_all = pd.concat([df_message, df_orderbook],axis=1)"
   ]
  },
  {
   "cell_type": "code",
   "execution_count": 140,
   "metadata": {},
   "outputs": [
    {
     "data": {
      "image/png": "[encoded data removed]",
      "text/plain": [
       "<matplotlib.figure.Figure at 0x7ff6378e95f8>"
      ]
     },
     "metadata": {
      "needs_background": "light"
     },
     "output_type": "display_data"
    }
   ],
   "source": [
    "plt.acorr(df_all['imb1'])\n",
    "plt.show()"
   ]
  },
  {
   "cell_type": "code",
   "execution_count": null,
   "metadata": {},
   "outputs": [],
   "source": []
  },
  {
   "cell_type": "code",
   "execution_count": 74,
   "metadata": {},
   "outputs": [
    {
     "data": {
      "text/plain": [
       "count    324970.000000\n",
       "mean         -0.019520\n",
       "std           0.741127\n",
       "min          -0.998335\n",
       "25%          -0.826087\n",
       "50%           0.000000\n",
       "75%           0.750000\n",
       "max           0.999800\n",
       "Name: imb1, dtype: float64"
      ]
     },
     "execution_count": 74,
     "metadata": {},
     "output_type": "execute_result"
    }
   ],
   "source": [
    "df_all['imb1'].describe()"
   ]
  },
  {
   "cell_type": "code",
   "execution_count": 75,
   "metadata": {},
   "outputs": [],
   "source": [
    "def regime(a):\n",
    "    if a < -0.741379: \n",
    "        reg = 1\n",
    "    elif a < 0:\n",
    "        reg = 2\n",
    "    elif a < 0.720930:\n",
    "        reg = 3\n",
    "    else:\n",
    "        reg = 4\n",
    "    return reg\n",
    "\n",
    "df_all['imb1_reg'] = list(map(regime, df_all.copy()[\"imb1\"]))"
   ]
  },
  {
   "cell_type": "code",
   "execution_count": null,
   "metadata": {},
   "outputs": [],
   "source": [
    "df_all[\"imb_previous\"] = df_all['imb1_reg'].shift(1)"
   ]
  },
  {
   "cell_type": "code",
   "execution_count": 77,
   "metadata": {},
   "outputs": [],
   "source": [
    "df_trade = df_all[(df_all['type'] == 4) | (df_all['type'] == 5)]"
   ]
  },
  {
   "cell_type": "code",
   "execution_count": 79,
   "metadata": {},
   "outputs": [
    {
     "data": {
      "text/html": [
       "<div>\n",
       "<style scoped>\n",
       "    .dataframe tbody tr th:only-of-type {\n",
       "        vertical-align: middle;\n",
       "    }\n",
       "\n",
       "    .dataframe tbody tr th {\n",
       "        vertical-align: top;\n",
       "    }\n",
       "\n",
       "    .dataframe thead th {\n",
       "        text-align: right;\n",
       "    }\n",
       "</style>\n",
       "<table border=\"1\" class=\"dataframe\">\n",
       "  <thead>\n",
       "    <tr style=\"text-align: right;\">\n",
       "      <th></th>\n",
       "      <th></th>\n",
       "      <th>time</th>\n",
       "    </tr>\n",
       "    <tr>\n",
       "      <th>imb_previous</th>\n",
       "      <th>direction</th>\n",
       "      <th></th>\n",
       "    </tr>\n",
       "  </thead>\n",
       "  <tbody>\n",
       "    <tr>\n",
       "      <th rowspan=\"2\" valign=\"top\">1.0</th>\n",
       "      <th>-1</th>\n",
       "      <td>1207</td>\n",
       "    </tr>\n",
       "    <tr>\n",
       "      <th>1</th>\n",
       "      <td>2453</td>\n",
       "    </tr>\n",
       "    <tr>\n",
       "      <th rowspan=\"2\" valign=\"top\">2.0</th>\n",
       "      <th>-1</th>\n",
       "      <td>1094</td>\n",
       "    </tr>\n",
       "    <tr>\n",
       "      <th>1</th>\n",
       "      <td>1919</td>\n",
       "    </tr>\n",
       "    <tr>\n",
       "      <th rowspan=\"2\" valign=\"top\">3.0</th>\n",
       "      <th>-1</th>\n",
       "      <td>1280</td>\n",
       "    </tr>\n",
       "    <tr>\n",
       "      <th>1</th>\n",
       "      <td>2667</td>\n",
       "    </tr>\n",
       "    <tr>\n",
       "      <th rowspan=\"2\" valign=\"top\">4.0</th>\n",
       "      <th>-1</th>\n",
       "      <td>1070</td>\n",
       "    </tr>\n",
       "    <tr>\n",
       "      <th>1</th>\n",
       "      <td>2538</td>\n",
       "    </tr>\n",
       "  </tbody>\n",
       "</table>\n",
       "</div>"
      ],
      "text/plain": [
       "                        time\n",
       "imb_previous direction      \n",
       "1.0          -1         1207\n",
       "              1         2453\n",
       "2.0          -1         1094\n",
       "              1         1919\n",
       "3.0          -1         1280\n",
       "              1         2667\n",
       "4.0          -1         1070\n",
       "              1         2538"
      ]
     },
     "execution_count": 79,
     "metadata": {},
     "output_type": "execute_result"
    }
   ],
   "source": [
    "df_trade.groupby([\"imb_previous\",\"direction\"]).count()[['time']]"
   ]
  },
  {
   "cell_type": "code",
   "execution_count": 80,
   "metadata": {},
   "outputs": [
    {
     "data": {
      "text/plain": [
       "Index(['time', 'type', 'size', 'price', 'direction', 'ask_price1', 'ask_size1',\n",
       "       'bid_price1', 'bid_size1', 'ask_price2', 'ask_size2', 'bid_price2',\n",
       "       'bid_size2', 'ask_price3', 'ask_size3', 'bid_price3', 'bid_size3',\n",
       "       'ask_price4', 'ask_size4', 'bid_price4', 'bid_size4', 'ask_price5',\n",
       "       'ask_size5', 'bid_price5', 'bid_size5', 'ask_price6', 'ask_size6',\n",
       "       'bid_price6', 'bid_size6', 'ask_price7', 'ask_size7', 'bid_price7',\n",
       "       'bid_size7', 'ask_price8', 'ask_size8', 'bid_price8', 'bid_size8',\n",
       "       'ask_price9', 'ask_size9', 'bid_price9', 'bid_size9', 'ask_price10',\n",
       "       'ask_size10', 'bid_price10', 'bid_size10', 'imb1', 'imb1_reg',\n",
       "       'imb_previous'],\n",
       "      dtype='object')"
      ]
     },
     "execution_count": 80,
     "metadata": {},
     "output_type": "execute_result"
    }
   ],
   "source": [
    "df_trade.columns"
   ]
  },
  {
   "cell_type": "code",
   "execution_count": 126,
   "metadata": {},
   "outputs": [],
   "source": [
    "df_sell = df_trade[df_trade['direction']==1].resample(\"1min\").agg({'size':'sum'})\n",
    "df_buy = df_trade[df_trade['direction']==-1].resample(\"1min\").agg({'size':'sum'})\n",
    "df_trade_volume = pd.concat([df_sell.rename(columns={'size':'sell'}),df_buy.rename(columns={'size':'buy'}), df_mo]\n",
    "                            ,axis=1)\n",
    "df_trade_volume[\"direction\"] = df_trade.resample(\"1min\").agg({'direction':'first'}).shift(-1)"
   ]
  },
  {
   "cell_type": "code",
   "execution_count": 138,
   "metadata": {},
   "outputs": [],
   "source": [
    "df_trade_volume.head()\n",
    "df_trade_volume[\"imb\"] = (df_trade_volume['buy'] - df_trade_volume['sell']) / (df_trade_volume['buy'] + df_trade_volume['sell'])\n",
    "df_trade_volume['imb_reg'] = list(map(regime, df_trade_volume.copy()[\"imb\"]))\n",
    "df_trade_volume.dropna(inplace=True)"
   ]
  },
  {
   "cell_type": "code",
   "execution_count": 135,
   "metadata": {},
   "outputs": [
    {
     "data": {
      "text/plain": [
       "pandas.core.series.Series"
      ]
     },
     "execution_count": 135,
     "metadata": {},
     "output_type": "execute_result"
    }
   ],
   "source": [
    "type(df_trade_volume['imb'])"
   ]
  },
  {
   "cell_type": "code",
   "execution_count": 141,
   "metadata": {},
   "outputs": [
    {
     "data": {
      "image/png": "[encoded data removed]",
      "text/plain": [
       "<matplotlib.figure.Figure at 0x7ff63784fb38>"
      ]
     },
     "metadata": {
      "needs_background": "light"
     },
     "output_type": "display_data"
    }
   ],
   "source": [
    "plt.acorr(df_trade_volume['imb'])\n",
    "plt.show()"
   ]
  },
  {
   "cell_type": "code",
   "execution_count": null,
   "metadata": {},
   "outputs": [],
   "source": [
    "# predicting the volume for the next period"
   ]
  },
  {
   "cell_type": "code",
   "execution_count": null,
   "metadata": {},
   "outputs": [],
   "source": [
    "# predicting next trade direction"
   ]
  },
  {
   "cell_type": "code",
   "execution_count": null,
   "metadata": {},
   "outputs": [],
   "source": [
    "# predicting next limit order direction"
   ]
  },
  {
   "cell_type": "code",
   "execution_count": null,
   "metadata": {},
   "outputs": [],
   "source": [
    "# prediction total order of 10 levels"
   ]
  },
  {
   "cell_type": "code",
   "execution_count": 40,
   "metadata": {},
   "outputs": [
    {
     "name": "stdout",
     "output_type": "stream",
     "text": [
      "Python 3.6.9\r\n"
     ]
    }
   ],
   "source": [
    "!python -V"
   ]
  }
 ],
 "metadata": {
  "kernelspec": {
   "display_name": "Python 3",
   "language": "python",
   "name": "python3"
  },
  "language_info": {
   "codemirror_mode": {
    "name": "ipython",
    "version": 3
   },
   "file_extension": ".py",
   "mimetype": "text/x-python",
   "name": "python",
   "nbconvert_exporter": "python",
   "pygments_lexer": "ipython3",
   "version": "3.5.2"
  }
 },
 "nbformat": 4,
 "nbformat_minor": 2
}
